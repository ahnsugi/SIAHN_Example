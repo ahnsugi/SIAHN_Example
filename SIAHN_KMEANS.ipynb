{
 "cells": [
  {
   "cell_type": "code",
   "execution_count": 6,
   "metadata": {},
   "outputs": [
    {
     "data": {
      "text/plain": [
       "[<matplotlib.lines.Line2D at 0x266cc589198>]"
      ]
     },
     "execution_count": 6,
     "metadata": {},
     "output_type": "execute_result"
    },
    {
     "data": {
      "image/png": "[encoded data removed]",
      "text/plain": [
       "<Figure size 432x288 with 1 Axes>"
      ]
     },
     "metadata": {
      "needs_background": "light"
     },
     "output_type": "display_data"
    }
   ],
   "source": [
    "# 라이브러리를 가져오는 코드\n",
    "import random\n",
    "import numpy as np\n",
    "import matplotlib.pyplot as plt\n",
    "\n",
    "#전체코드\n",
    "\n",
    "def dist(x,y):\n",
    "    return np.sqrt((x[0]-y[0])**2 +(x[1]-y[1])**2)\n",
    "\n",
    "# 데이터를 가져오는 코드\n",
    "\n",
    "data = []\n",
    "for i in range(50):\n",
    "    data.append([random.randint(40, 70),random.randint(140, 180)])\n",
    "    data.append([random.randint(60, 90),random.randint(160, 200)])\n",
    "    \n",
    "# 초기 랜덤값 2개\n",
    "random_points = [[random.randint(40, 90),random.randint(140, 200)],[random.randint(40, 90),random.randint(140, 200)]]\n",
    "\n",
    "for k in range(10):\n",
    "    tmp1 = []\n",
    "    tmp2 = []\n",
    "    if(k == 1):\n",
    "        for i in data:\n",
    "            if (dist(random_points[0],i) > dist(random_points[1],i)):\n",
    "                tmp2.append(i)\n",
    "            else:\n",
    "                tmp1.append(i)\n",
    "    else:\n",
    "        for i in data:\n",
    "            if (dist(new_points[0],i) > dist(new_points[1],i)):\n",
    "                tmp2.append(i)\n",
    "            else:\n",
    "                tmp1.append(i)\n",
    "\n",
    "    sum1=0\n",
    "    sum2=0\n",
    "    for i in tmp1:\n",
    "        sum1 +=i[0]\n",
    "        sum2 +=i[1]\n",
    "\n",
    "    new_points = []\n",
    "    new_points.append([sum1/len(tmp1),sum2/len(tmp1)])\n",
    "    sum1=0\n",
    "    sum2=0\n",
    "    for i in tmp2:\n",
    "        sum1 +=i[0]\n",
    "        sum2 +=i[1]\n",
    "    new_points.append([sum1/len(tmp2),sum2/len(tmp2)])\n",
    "    \n",
    "    #새로운 점 그래프\n",
    "    for i in tmp1:\n",
    "        plt.plot(i[0],i[1],'o',color='y')\n",
    "    for i in tmp2:\n",
    "        plt.plot(i[0],i[1],'o',color='g')\n",
    "plt.plot(new_points[0][0],new_points[0][1],'x',color='r')\n",
    "plt.plot(new_points[1][0],new_points[1][1],'x',color='b')"
   ]
  }
 ],
 "metadata": {
  "kernelspec": {
   "display_name": "Python 3",
   "language": "python",
   "name": "python3"
  },
  "language_info": {
   "codemirror_mode": {
    "name": "ipython",
    "version": 3
   },
   "file_extension": ".py",
   "mimetype": "text/x-python",
   "name": "python",
   "nbconvert_exporter": "python",
   "pygments_lexer": "ipython3",
   "version": "3.7.3"
  }
 },
 "nbformat": 4,
 "nbformat_minor": 2
}
